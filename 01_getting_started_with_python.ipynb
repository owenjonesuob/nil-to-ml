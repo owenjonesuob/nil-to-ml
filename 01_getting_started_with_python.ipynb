{
 "cells": [
  {
   "cell_type": "markdown",
   "metadata": {},
   "source": [
    "## Part 1: Getting started with Python"
   ]
  },
  {
   "cell_type": "markdown",
   "metadata": {},
   "source": [
    "The world is full of problems. All sorts of problems, really. And sometimes it falls on us, as individuals or as small groups, to solve one of these problems.\n",
    "\n",
    "Fortunately, we humans are pretty smart: we're good at figuring out what to do, and we're often good at doing it too. But so are most other primates, and crows, and beavers, and dolphins... so, why are we _smarter_ than them?\n",
    "\n",
    "Well, we have evolved to have two big advantages over everyone else:\n",
    "\n",
    "* We're good at building tools, which we can then use to help us do things\n",
    "* We're good (like, _really_ good) at communicating: ideas, instructions, questions, explanations...\n",
    "\n",
    "So imagine how amazing it would be if we could _communicate with our tools_!\n",
    "\n",
    "Well... that is exactly what coding is, and it is exactly what we're about to do."
   ]
  },
  {
   "cell_type": "markdown",
   "metadata": {},
   "source": [
    "### 1.1 Making things"
   ]
  },
  {
   "cell_type": "markdown",
   "metadata": {},
   "source": [
    "> \"You can make anything by writing.\" - C.S. Lewis\n",
    "\n",
    "Writing code is like writing a novel, or creating any other piece of art. You start with a blank canvas, and then gradually you start to add things to it.\n",
    "\n",
    "Let's have a look at some of the things we can start building with."
   ]
  },
  {
   "cell_type": "code",
   "execution_count": 1,
   "metadata": {},
   "outputs": [
    {
     "data": {
      "text/plain": [
       "3"
      ]
     },
     "execution_count": 1,
     "metadata": {},
     "output_type": "execute_result"
    }
   ],
   "source": [
    "3"
   ]
  },
  {
   "cell_type": "code",
   "execution_count": 2,
   "metadata": {},
   "outputs": [
    {
     "data": {
      "text/plain": [
       "7"
      ]
     },
     "execution_count": 2,
     "metadata": {},
     "output_type": "execute_result"
    }
   ],
   "source": [
    "3 + 4"
   ]
  },
  {
   "cell_type": "code",
   "execution_count": 3,
   "metadata": {},
   "outputs": [
    {
     "data": {
      "text/plain": [
       "'hi'"
      ]
     },
     "execution_count": 3,
     "metadata": {},
     "output_type": "execute_result"
    }
   ],
   "source": [
    "\"hi\""
   ]
  },
  {
   "cell_type": "markdown",
   "metadata": {},
   "source": [
    "Most \"things\" in Python are **objects**. An **object** here in Python is the same as an object in real life: it has certain properties, you can do things to it, you can use it to do things...\n",
    "\n",
    "Moreover, every object belongs to a certain **type** - like granite is a type of rock, or jazz is a type of music. For example, we've just seen an **integer** object:"
   ]
  },
  {
   "cell_type": "code",
   "execution_count": 4,
   "metadata": {},
   "outputs": [
    {
     "data": {
      "text/plain": [
       "int"
      ]
     },
     "execution_count": 4,
     "metadata": {},
     "output_type": "execute_result"
    }
   ],
   "source": [
    "type(3)"
   ]
  },
  {
   "cell_type": "markdown",
   "metadata": {},
   "source": [
    "And a **string** object:"
   ]
  },
  {
   "cell_type": "code",
   "execution_count": 5,
   "metadata": {},
   "outputs": [
    {
     "data": {
      "text/plain": [
       "str"
      ]
     },
     "execution_count": 5,
     "metadata": {},
     "output_type": "execute_result"
    }
   ],
   "source": [
    "type(\"hi\")"
   ]
  },
  {
   "cell_type": "markdown",
   "metadata": {},
   "source": [
    "We can change the type of some objects - for example, we can turn an integer into a string:"
   ]
  },
  {
   "cell_type": "code",
   "execution_count": 6,
   "metadata": {},
   "outputs": [
    {
     "data": {
      "text/plain": [
       "'15'"
      ]
     },
     "execution_count": 6,
     "metadata": {},
     "output_type": "execute_result"
    }
   ],
   "source": [
    "str(3 * 5)"
   ]
  },
  {
   "cell_type": "markdown",
   "metadata": {},
   "source": [
    "Notice the quote marks in the printed output?\n",
    "\n",
    "Or we can turn this particular string into an integer:"
   ]
  },
  {
   "cell_type": "code",
   "execution_count": 7,
   "metadata": {},
   "outputs": [
    {
     "data": {
      "text/plain": [
       "10"
      ]
     },
     "execution_count": 7,
     "metadata": {},
     "output_type": "execute_result"
    }
   ],
   "source": [
    "int(\"10\")"
   ]
  },
  {
   "cell_type": "markdown",
   "metadata": {},
   "source": [
    "But what about this one...?"
   ]
  },
  {
   "cell_type": "code",
   "execution_count": 8,
   "metadata": {},
   "outputs": [
    {
     "ename": "ValueError",
     "evalue": "invalid literal for int() with base 10: 'hi'",
     "output_type": "error",
     "traceback": [
      "\u001b[1;31m---------------------------------------------------------------------------\u001b[0m",
      "\u001b[1;31mValueError\u001b[0m                                Traceback (most recent call last)",
      "\u001b[1;32m<ipython-input-8-3f3b4afe6853>\u001b[0m in \u001b[0;36m<module>\u001b[1;34m\u001b[0m\n\u001b[1;32m----> 1\u001b[1;33m \u001b[0mint\u001b[0m\u001b[1;33m(\u001b[0m\u001b[1;34m\"hi\"\u001b[0m\u001b[1;33m)\u001b[0m\u001b[1;33m\u001b[0m\u001b[1;33m\u001b[0m\u001b[0m\n\u001b[0m",
      "\u001b[1;31mValueError\u001b[0m: invalid literal for int() with base 10: 'hi'"
     ]
    }
   ],
   "source": [
    "int(\"hi\")"
   ]
  },
  {
   "cell_type": "markdown",
   "metadata": {},
   "source": [
    "Python didn't let us do that, but think about why. Can you think of a sensible way to turn `\"hi\"` into an integer? (Oi, you, trying to add up letter scores or whatever it is you're doing over there. I said a _sensible_ way.)\n",
    "\n",
    "Similarly, it won't let us \"add together\" an integer and a string:"
   ]
  },
  {
   "cell_type": "code",
   "execution_count": 9,
   "metadata": {},
   "outputs": [
    {
     "ename": "TypeError",
     "evalue": "unsupported operand type(s) for +: 'int' and 'str'",
     "output_type": "error",
     "traceback": [
      "\u001b[1;31m---------------------------------------------------------------------------\u001b[0m",
      "\u001b[1;31mTypeError\u001b[0m                                 Traceback (most recent call last)",
      "\u001b[1;32m<ipython-input-9-e65ee25badf4>\u001b[0m in \u001b[0;36m<module>\u001b[1;34m\u001b[0m\n\u001b[1;32m----> 1\u001b[1;33m \u001b[1;36m10\u001b[0m \u001b[1;33m+\u001b[0m \u001b[1;34m\"hi\"\u001b[0m\u001b[1;33m\u001b[0m\u001b[1;33m\u001b[0m\u001b[0m\n\u001b[0m",
      "\u001b[1;31mTypeError\u001b[0m: unsupported operand type(s) for +: 'int' and 'str'"
     ]
    }
   ],
   "source": [
    "10 + \"hi\""
   ]
  },
  {
   "cell_type": "markdown",
   "metadata": {},
   "source": [
    "Instead of an answer, we get an **error message** telling us what went wrong. Look at the last line: Python is helpfully telling us that we tried to add a `str` and an `int`, and that `+` won't work with that combination!"
   ]
  },
  {
   "cell_type": "markdown",
   "metadata": {},
   "source": [
    "#### Exercise\n",
    "\n",
    "1. What happens if we \"add together\" two strings?\n",
    "2. Fix the `10 + \"hi\"` example: change the type of the integer so that we can add a string to it\n",
    "2. We can't add together an integer and a string, but what about multiplication?\n",
    "3. Try out some more maths. Can you find another type of object?"
   ]
  },
  {
   "cell_type": "markdown",
   "metadata": {},
   "source": [
    "### 1.2 Keeping things"
   ]
  },
  {
   "cell_type": "markdown",
   "metadata": {},
   "source": [
    "> \"Save it for later\" - The Beat\n",
    "\n",
    "Sure, these things we're making are great, but they're just kind of... _there_. Wouldn't it be nice if we could give each of them a name?"
   ]
  },
  {
   "cell_type": "code",
   "execution_count": 10,
   "metadata": {},
   "outputs": [],
   "source": [
    "result = 3 + 4"
   ]
  },
  {
   "cell_type": "markdown",
   "metadata": {},
   "source": [
    "Nothing seemed to happen. But something _did_ happen..."
   ]
  },
  {
   "cell_type": "code",
   "execution_count": 11,
   "metadata": {},
   "outputs": [
    {
     "data": {
      "text/plain": [
       "7"
      ]
     },
     "execution_count": 11,
     "metadata": {},
     "output_type": "execute_result"
    }
   ],
   "source": [
    "result"
   ]
  },
  {
   "cell_type": "markdown",
   "metadata": {},
   "source": [
    "Our thing, our integer, our `7`, has been **assigned** to an object called `result`. So `result` is the name of this object (which is an integer with the value of `7`). And whenever we ask for `result`, we will get `7` in return. Makes sense?\n",
    "\n",
    "Let's make another integer object:"
   ]
  },
  {
   "cell_type": "code",
   "execution_count": 12,
   "metadata": {},
   "outputs": [],
   "source": [
    "to_add = 10"
   ]
  },
  {
   "cell_type": "markdown",
   "metadata": {},
   "source": [
    "So `result` is an integer, and `to_add` is an integer, So... we should be able to add them together, right?"
   ]
  },
  {
   "cell_type": "code",
   "execution_count": 13,
   "metadata": {},
   "outputs": [
    {
     "data": {
      "text/plain": [
       "17"
      ]
     },
     "execution_count": 13,
     "metadata": {},
     "output_type": "execute_result"
    }
   ],
   "source": [
    "total = result + to_add\n",
    "\n",
    "total"
   ]
  },
  {
   "cell_type": "markdown",
   "metadata": {},
   "source": [
    "Let's revise what we already know about strings too:"
   ]
  },
  {
   "cell_type": "code",
   "execution_count": 14,
   "metadata": {},
   "outputs": [
    {
     "data": {
      "text/plain": [
       "'Your answer is: 17'"
      ]
     },
     "execution_count": 14,
     "metadata": {},
     "output_type": "execute_result"
    }
   ],
   "source": [
    "sentence = \"Your answer is: \"\n",
    "message = sentence + str(total)\n",
    "\n",
    "message"
   ]
  },
  {
   "cell_type": "markdown",
   "metadata": {},
   "source": [
    "There's one more super-useful type of object which we should look at: **lists**.\n",
    "\n",
    "Lists are like containers which let you keep multiple things in the same place."
   ]
  },
  {
   "cell_type": "code",
   "execution_count": 15,
   "metadata": {},
   "outputs": [
    {
     "data": {
      "text/plain": [
       "['a', 'b', 'c', 'd', 'e', 'f', 'g']"
      ]
     },
     "execution_count": 15,
     "metadata": {},
     "output_type": "execute_result"
    }
   ],
   "source": [
    "letters = [\"a\", \"b\", \"c\", \"d\", \"e\", \"f\", \"g\"]\n",
    "\n",
    "letters"
   ]
  },
  {
   "cell_type": "markdown",
   "metadata": {},
   "source": [
    "We can go back and **slice** things out of lists based on their position. But...\n",
    "\n",
    "    |￣￣￣￣￣￣￣￣￣| \n",
    "    |    WARNING    | \n",
    "    |    ~~~~~~~    | \n",
    "    | Python starts |\n",
    "    |   counting    |\n",
    "    |    from 0     | \n",
    "    |＿＿＿＿＿＿＿＿＿| \n",
    "    (\\__/) || \n",
    "    (•ㅅ•) || \n",
    "    / 　 づ\n",
    "\n",
    "(There are reasons for this, which you can go and read about if you're interested.)"
   ]
  },
  {
   "cell_type": "code",
   "execution_count": 16,
   "metadata": {},
   "outputs": [
    {
     "data": {
      "text/plain": [
       "'a'"
      ]
     },
     "execution_count": 16,
     "metadata": {},
     "output_type": "execute_result"
    }
   ],
   "source": [
    "letters[0]"
   ]
  },
  {
   "cell_type": "code",
   "execution_count": 17,
   "metadata": {},
   "outputs": [
    {
     "data": {
      "text/plain": [
       "'c'"
      ]
     },
     "execution_count": 17,
     "metadata": {},
     "output_type": "execute_result"
    }
   ],
   "source": [
    "letters[2]"
   ]
  },
  {
   "cell_type": "markdown",
   "metadata": {},
   "source": [
    "Negative positions count backwards from the end of the list."
   ]
  },
  {
   "cell_type": "code",
   "execution_count": 18,
   "metadata": {},
   "outputs": [
    {
     "data": {
      "text/plain": [
       "'f'"
      ]
     },
     "execution_count": 18,
     "metadata": {},
     "output_type": "execute_result"
    }
   ],
   "source": [
    "letters[-2]"
   ]
  },
  {
   "cell_type": "markdown",
   "metadata": {},
   "source": [
    "You can also slice a whole section of a list using the format `from:upto`. But bear in mind that \"up to\" means \"up to and NOT including\"."
   ]
  },
  {
   "cell_type": "code",
   "execution_count": 19,
   "metadata": {
    "scrolled": true
   },
   "outputs": [
    {
     "data": {
      "text/plain": [
       "['a', 'b', 'c']"
      ]
     },
     "execution_count": 19,
     "metadata": {},
     "output_type": "execute_result"
    }
   ],
   "source": [
    "letters[0:3]"
   ]
  },
  {
   "cell_type": "markdown",
   "metadata": {},
   "source": [
    "If you don't tell Python where to stop, it will assume you want to go up to the end of the list:"
   ]
  },
  {
   "cell_type": "code",
   "execution_count": 20,
   "metadata": {},
   "outputs": [
    {
     "data": {
      "text/plain": [
       "['e', 'f', 'g']"
      ]
     },
     "execution_count": 20,
     "metadata": {},
     "output_type": "execute_result"
    }
   ],
   "source": [
    "letters[4:]"
   ]
  },
  {
   "cell_type": "markdown",
   "metadata": {},
   "source": [
    "Similarly, if we don't say where we want to start, Python assumes we want to start at the very beginning, a very good place to start. Remember what negative positions do?"
   ]
  },
  {
   "cell_type": "code",
   "execution_count": 21,
   "metadata": {},
   "outputs": [
    {
     "data": {
      "text/plain": [
       "['a', 'b', 'c', 'd', 'e']"
      ]
     },
     "execution_count": 21,
     "metadata": {},
     "output_type": "execute_result"
    }
   ],
   "source": [
    "letters[:-2]"
   ]
  },
  {
   "cell_type": "markdown",
   "metadata": {},
   "source": [
    "#### Exercises\n",
    "\n",
    "1. Make an object called `python_ability`: an integer which you think represents your Python skill level right now\n",
    "2. What happens if we assign over the top of an object that already exists? Try reassigning `python_ability` as `python_ability + 1`\n",
    "3. Now combine `python_ability` with a string containing a motivational message to yourself. You're doing great!\n",
    "4. Do all the things in a list need to be of the same type? Try things out... can you put a _list_ inside a list?\n",
    "5. What does `letters[0:6:2]` do? What about `letters[::-1]`?"
   ]
  },
  {
   "cell_type": "markdown",
   "metadata": {},
   "source": [
    "### 1.3 Comparing things"
   ]
  },
  {
   "cell_type": "markdown",
   "metadata": {},
   "source": [
    "Now we've got the hang of objects, let's look at some useful things we can do with them. **Comparison operators** let us make comparisons between two objects (astonishing, right?). A comparison will always give us back a **Boolean** (or **logical**) value. Sounds fancy, but it just means `True` or `False`."
   ]
  },
  {
   "cell_type": "code",
   "execution_count": 34,
   "metadata": {},
   "outputs": [
    {
     "data": {
      "text/plain": [
       "True"
      ]
     },
     "execution_count": 34,
     "metadata": {},
     "output_type": "execute_result"
    }
   ],
   "source": [
    "3 == 3"
   ]
  },
  {
   "cell_type": "code",
   "execution_count": 35,
   "metadata": {},
   "outputs": [
    {
     "data": {
      "text/plain": [
       "False"
      ]
     },
     "execution_count": 35,
     "metadata": {},
     "output_type": "execute_result"
    }
   ],
   "source": [
    "3 != 3"
   ]
  },
  {
   "cell_type": "markdown",
   "metadata": {},
   "source": [
    "Here are all the comparison operators:\n",
    "\n",
    "| Operator | Meaning                  |\n",
    "|----------|--------------------------|\n",
    "| `==`     | equals                   |\n",
    "| `!=`     | not equal                |\n",
    "| `<`      | less than                |\n",
    "| `>`      | greater than             |\n",
    "| `<=`     | less than or equal to    |\n",
    "| `>=`     | greater than or equal to |\n",
    "\n",
    "The only slightly tricky one to remember is `==` for checking equality. Why `==`, rather than just plain `=`? Maybe you've already realised..."
   ]
  },
  {
   "cell_type": "code",
   "execution_count": 38,
   "metadata": {},
   "outputs": [
    {
     "ename": "SyntaxError",
     "evalue": "can't assign to literal (<ipython-input-38-effb9ca1a7d0>, line 1)",
     "output_type": "error",
     "traceback": [
      "\u001b[1;36m  File \u001b[1;32m\"<ipython-input-38-effb9ca1a7d0>\"\u001b[1;36m, line \u001b[1;32m1\u001b[0m\n\u001b[1;33m    3 = 4\u001b[0m\n\u001b[1;37m         ^\u001b[0m\n\u001b[1;31mSyntaxError\u001b[0m\u001b[1;31m:\u001b[0m can't assign to literal\n"
     ]
    }
   ],
   "source": [
    "3 = 4"
   ]
  },
  {
   "cell_type": "markdown",
   "metadata": {},
   "source": [
    "Remember `=` already does something - assignment! We just tried to tell Python that `3` is now `4`, and Python told us we tried to do something stupid.\n",
    "\n",
    "We can compare other types of object too, as well as numbers. For example, Boolean values have numeric equivalents: `False` is a \"logical 0\", and `True` is a \"logical 1\":"
   ]
  },
  {
   "cell_type": "code",
   "execution_count": 46,
   "metadata": {},
   "outputs": [
    {
     "data": {
      "text/plain": [
       "True"
      ]
     },
     "execution_count": 46,
     "metadata": {},
     "output_type": "execute_result"
    }
   ],
   "source": [
    "False == 0"
   ]
  },
  {
   "cell_type": "code",
   "execution_count": 48,
   "metadata": {},
   "outputs": [
    {
     "data": {
      "text/plain": [
       "True"
      ]
     },
     "execution_count": 48,
     "metadata": {},
     "output_type": "execute_result"
    }
   ],
   "source": [
    "True > False"
   ]
  },
  {
   "cell_type": "markdown",
   "metadata": {},
   "source": [
    "We can also \"compare\" strings:"
   ]
  },
  {
   "cell_type": "code",
   "execution_count": 58,
   "metadata": {},
   "outputs": [
    {
     "data": {
      "text/plain": [
       "False"
      ]
     },
     "execution_count": 58,
     "metadata": {},
     "output_type": "execute_result"
    }
   ],
   "source": [
    "\"python\" == \"matlab\""
   ]
  },
  {
   "cell_type": "code",
   "execution_count": 59,
   "metadata": {
    "scrolled": true
   },
   "outputs": [
    {
     "data": {
      "text/plain": [
       "True"
      ]
     },
     "execution_count": 59,
     "metadata": {},
     "output_type": "execute_result"
    }
   ],
   "source": [
    "\"python\" > \"matlab\""
   ]
  },
  {
   "cell_type": "markdown",
   "metadata": {},
   "source": [
    "#### Exercises\n",
    "\n",
    "1. Play around with numerical comparisons until you're happy with them!\n",
    "2. What happens if you add two Booleans together?\n",
    "2. Are uppercase letters the same as lowercase letters?\n",
    "3. Why is `\"python\"` greater than `\"matlab\"`? Write a 6000 word essay explaining... just kidding. But can you actually figure it out?"
   ]
  },
  {
   "cell_type": "markdown",
   "metadata": {},
   "source": [
    "### 1.4 Controlling things"
   ]
  },
  {
   "cell_type": "code",
   "execution_count": null,
   "metadata": {},
   "outputs": [],
   "source": [
    "x = 3\n",
    "saved = \"\""
   ]
  },
  {
   "cell_type": "markdown",
   "metadata": {},
   "source": [
    "Now let's update `saved`, **conditionally**"
   ]
  },
  {
   "cell_type": "code",
   "execution_count": 79,
   "metadata": {},
   "outputs": [
    {
     "data": {
      "text/plain": [
       "'Three!'"
      ]
     },
     "execution_count": 79,
     "metadata": {},
     "output_type": "execute_result"
    }
   ],
   "source": [
    "if (x == 3):\n",
    "    saved = \"Three!\"\n",
    "    \n",
    "saved"
   ]
  },
  {
   "cell_type": "code",
   "execution_count": 72,
   "metadata": {},
   "outputs": [],
   "source": [
    "if (x == 4):\n",
    "    print(\"Four!\")"
   ]
  },
  {
   "cell_type": "code",
   "execution_count": 75,
   "metadata": {},
   "outputs": [
    {
     "name": "stdout",
     "output_type": "stream",
     "text": [
      "Three!\n"
     ]
    }
   ],
   "source": [
    "if (x == 3):\n",
    "    print(\"Three!\")\n",
    "elif (x == 4):\n",
    "    print(\"Four!\")\n",
    "elif (x > 4):\n",
    "    print(\"Massive!\")\n",
    "else:\n",
    "    print(\"Tiny!\")"
   ]
  },
  {
   "cell_type": "markdown",
   "metadata": {},
   "source": [
    "*Exercise*: rewrite grade() to give degree class"
   ]
  },
  {
   "cell_type": "markdown",
   "metadata": {},
   "source": [
    "### 1.5 Repeating things"
   ]
  },
  {
   "cell_type": "code",
   "execution_count": null,
   "metadata": {},
   "outputs": [],
   "source": [
    "for ltr in letters:\n",
    "    print(ltr)"
   ]
  },
  {
   "cell_type": "code",
   "execution_count": null,
   "metadata": {},
   "outputs": [],
   "source": [
    "for k in range(len(letters)):\n",
    "    print(letters[k])"
   ]
  },
  {
   "cell_type": "markdown",
   "metadata": {},
   "source": [
    "*Exercise*: print the following\n",
    "\n",
    "    a\n",
    "    a-b\n",
    "    a-b-c\n",
    "    a-b-c-d\n",
    "    a-b-c-d-e\n",
    "    a-b-c-d-e-f"
   ]
  },
  {
   "cell_type": "code",
   "execution_count": null,
   "metadata": {},
   "outputs": [],
   "source": [
    "for k in range(len(letters)):\n",
    "    joined_letters = \"-\".join(letters[:(k+1)])\n",
    "    print(joined_letters)"
   ]
  },
  {
   "cell_type": "code",
   "execution_count": null,
   "metadata": {},
   "outputs": [],
   "source": []
  },
  {
   "cell_type": "markdown",
   "metadata": {},
   "source": [
    "### 1.6 Things that make things"
   ]
  },
  {
   "cell_type": "markdown",
   "metadata": {},
   "source": [
    "Imagine we're not sitting here in front of a computer, but instead we're in the kitchen. What we've done so far is basically just pull a load of stuff out of the cupboards and kinda spread it around, and we've mixed some stuff together, tasted some bits and pieces... which is great! We've learned loads, right?\n",
    "\n",
    "But now we've learned about some of the basic ingredients, maybe it's time to stop throwing them around and instead do something useful with them. Maybe let's try following a recipe?\n",
    "\n",
    "We've only just gotten started though, so let's not try anything too fancy. How about...\n",
    "\n",
    "    Toast recipe\n",
    "    ~~~~~~~~~~~~\n",
    "    1. Put bread in toaster\n",
    "    2. Let toaster do its thing\n",
    "    3. Retrieve toast\n",
    "\n",
    "Think about the role of the toaster here: it accepts the bread, does something to it, then gives it back to you.\n",
    "\n",
    "Snap back to reality. That's exactly what a **function** does: it takes some input, does some stuff, and gives back some output. We've actually seen one function already..."
   ]
  },
  {
   "cell_type": "code",
   "execution_count": null,
   "metadata": {},
   "outputs": [],
   "source": [
    "type(528491)"
   ]
  },
  {
   "cell_type": "markdown",
   "metadata": {},
   "source": [
    "We provide the `type()` function with an object; it tells us the type. Simple, right?\n",
    "\n",
    "Let's look at a couple more functions..."
   ]
  },
  {
   "cell_type": "code",
   "execution_count": null,
   "metadata": {
    "scrolled": true
   },
   "outputs": [],
   "source": [
    "len(\"A string\")"
   ]
  },
  {
   "cell_type": "markdown",
   "metadata": {},
   "source": [
    "What's `len()` doing?\n",
    "\n",
    "Maybe you've figured it out already, but let's check the **documentation** to make sure:"
   ]
  },
  {
   "cell_type": "code",
   "execution_count": null,
   "metadata": {},
   "outputs": [],
   "source": [
    "?len"
   ]
  },
  {
   "cell_type": "markdown",
   "metadata": {},
   "source": [
    "So `len()` gives us \"the number of items in a container\". Here, our \"container\" was actually a string, containing 8 characters. But we can use `len()` on different types of object - what about a list? Remember `letters` from earlier?"
   ]
  },
  {
   "cell_type": "code",
   "execution_count": null,
   "metadata": {},
   "outputs": [],
   "source": [
    "len(letters)"
   ]
  },
  {
   "cell_type": "markdown",
   "metadata": {},
   "source": [
    "There's another function which we've actually been using a lot already, but so far it's been hiding very well. What do you think keeps making all our outputs magically appear under the code cells in this notebook?"
   ]
  },
  {
   "cell_type": "code",
   "execution_count": null,
   "metadata": {},
   "outputs": [],
   "source": [
    "print(\"Hi, it was me!\")"
   ]
  },
  {
   "cell_type": "markdown",
   "metadata": {},
   "source": [
    "Let's read a bit more about `print()`."
   ]
  },
  {
   "cell_type": "code",
   "execution_count": null,
   "metadata": {},
   "outputs": [],
   "source": [
    "?print"
   ]
  },
  {
   "cell_type": "markdown",
   "metadata": {},
   "source": [
    "The first line of the documentation shows us a template of how to use `print()`. Notice the commas?\n",
    "\n",
    "So far, we've only been putting one **argument** into these functions - one number, or one string, or one list. But functions don't necessarily have to have only 1 argument!"
   ]
  },
  {
   "cell_type": "code",
   "execution_count": null,
   "metadata": {
    "scrolled": false
   },
   "outputs": [],
   "source": [
    "print(\"Here are\", 3, \"different arguments!\")"
   ]
  },
  {
   "cell_type": "markdown",
   "metadata": {},
   "source": [
    "Those three arguments (`\"Here are\"`, `3` and `\"different arguments!\"`) were all **unnamed**: we just threw them in, and `print()`... well, it printed them! But see how it joined the three arguments together with a space in between, and then printed them as a single string.\n",
    "\n",
    "But what if we didn't want those arguments to be separated by a space? Well, we can tell `print()` to use a different separator..."
   ]
  },
  {
   "cell_type": "code",
   "execution_count": null,
   "metadata": {},
   "outputs": [],
   "source": [
    "print(\"Here are\", 3, \"different arguments!\", sep=\"@\")"
   ]
  },
  {
   "cell_type": "markdown",
   "metadata": {},
   "source": [
    "In that call to `print()`, we used a **named argument**: we set `sep` to be a particular string (`\"@\"`).\n",
    "\n",
    "Looking again at the documentation for `print()`, notice that `sep` has a **default value** of `sep=' '`. That means unless we specify `sep` as something different, then `print()` will use a string containing a single space (`' '`) as the separator between words - this is exactly what was happening before!\n",
    "\n",
    "Wait, so... how come sometimes we use named arguments, and sometimes we don't?\n",
    "\n",
    "Like most programming languages, Python uses two things to decide which arguments we've given a function:\n",
    "1. Name - if you use the argument name, Python will absolutely definitely know which argument you've given it!\n",
    "2. Position - if you don't use a name, Python has to guess\n",
    "\n"
   ]
  },
  {
   "cell_type": "code",
   "execution_count": null,
   "metadata": {},
   "outputs": [],
   "source": [
    "?str"
   ]
  },
  {
   "cell_type": "markdown",
   "metadata": {},
   "source": [
    "#### Exercises\n",
    "\n",
    "1. Make a list containing 5 things, and check the length with `len()`\n",
    "2. Use `print()` to print a string containing the days of the week, separated by a dollar sign\n",
    "3. Print that string again, but use the `end` argument to append another string of your choice"
   ]
  },
  {
   "cell_type": "markdown",
   "metadata": {},
   "source": [
    "### 1.7 Making things that make things"
   ]
  },
  {
   "cell_type": "markdown",
   "metadata": {},
   "source": [
    "OK, so we can use functions which already exist in Python. "
   ]
  },
  {
   "cell_type": "code",
   "execution_count": null,
   "metadata": {},
   "outputs": [],
   "source": [
    "def say(phrase, who=\"Me\"):\n",
    "    to_print = who + \": \" + phrase\n",
    "    print(to_print)"
   ]
  },
  {
   "cell_type": "code",
   "execution_count": null,
   "metadata": {
    "scrolled": true
   },
   "outputs": [],
   "source": [
    "say(\"Hello!\")"
   ]
  },
  {
   "cell_type": "code",
   "execution_count": null,
   "metadata": {},
   "outputs": [],
   "source": [
    "say(\"Hello there!\", who=\"Obi-Wan\")"
   ]
  },
  {
   "cell_type": "code",
   "execution_count": null,
   "metadata": {},
   "outputs": [],
   "source": [
    "def say_multi(phrases, who=\"Me\"):\n",
    "    lines = [who + \": \" + phrase for phrase in phrases]\n",
    "    to_print = \"\\n\".join(lines)\n",
    "    print(to_print)"
   ]
  },
  {
   "cell_type": "code",
   "execution_count": null,
   "metadata": {},
   "outputs": [],
   "source": [
    "say_multi([\"Hello!\", \"Is it me you're looking for?\"], who=\"Lionel\")"
   ]
  },
  {
   "cell_type": "code",
   "execution_count": null,
   "metadata": {},
   "outputs": [],
   "source": []
  },
  {
   "cell_type": "code",
   "execution_count": null,
   "metadata": {},
   "outputs": [],
   "source": [
    "def grade(score):\n",
    "    if (score >= 40):\n",
    "        print(\"Pass\")\n",
    "    else:\n",
    "        print(\"Fail\")"
   ]
  },
  {
   "cell_type": "code",
   "execution_count": null,
   "metadata": {},
   "outputs": [],
   "source": [
    "grade(80)"
   ]
  },
  {
   "cell_type": "code",
   "execution_count": null,
   "metadata": {},
   "outputs": [],
   "source": [
    "grade(39.999)"
   ]
  },
  {
   "cell_type": "code",
   "execution_count": null,
   "metadata": {},
   "outputs": [],
   "source": []
  },
  {
   "cell_type": "markdown",
   "metadata": {},
   "source": [
    "## Exercise solutions"
   ]
  },
  {
   "cell_type": "code",
   "execution_count": null,
   "metadata": {},
   "outputs": [],
   "source": [
    "# 1.1\n",
    "\"hi\" + \"there\"\n",
    "3 * \"hi\"\n",
    "type(3/2)"
   ]
  },
  {
   "cell_type": "code",
   "execution_count": null,
   "metadata": {},
   "outputs": [],
   "source": [
    "# 1.2\n",
    "python_ability = 1\n",
    "\n",
    "python_ability = python_ability + 1\n",
    "python_ability\n",
    "\n",
    "\"Right now my Python ability is \" + str(python_ability) + \" and I am freaking awesome!\"\n",
    "\n",
    "[\"hello\", 42, [101010, \"listception\"]]\n",
    "\n",
    "letters[0:6:2]\n",
    "letters[::-1]"
   ]
  },
  {
   "cell_type": "code",
   "execution_count": 68,
   "metadata": {},
   "outputs": [
    {
     "data": {
      "text/plain": [
       "True"
      ]
     },
     "execution_count": 68,
     "metadata": {},
     "output_type": "execute_result"
    }
   ],
   "source": [
    "# 1.3\n",
    "True + True + False\n",
    "5 + True\n",
    "\n",
    "\"aa\" == \"aaAAA\"\n",
    "\n",
    "\"p\" > \"m\"\n",
    "\"pb\" > \"pa\""
   ]
  },
  {
   "cell_type": "code",
   "execution_count": null,
   "metadata": {},
   "outputs": [],
   "source": []
  }
 ],
 "metadata": {
  "kernelspec": {
   "display_name": "Python 3",
   "language": "python",
   "name": "python3"
  },
  "language_info": {
   "codemirror_mode": {
    "name": "ipython",
    "version": 3
   },
   "file_extension": ".py",
   "mimetype": "text/x-python",
   "name": "python",
   "nbconvert_exporter": "python",
   "pygments_lexer": "ipython3",
   "version": "3.6.7"
  }
 },
 "nbformat": 4,
 "nbformat_minor": 2
}

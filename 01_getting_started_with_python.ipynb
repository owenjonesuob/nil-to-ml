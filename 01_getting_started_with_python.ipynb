{
 "cells": [
  {
   "cell_type": "markdown",
   "metadata": {},
   "source": [
    "## Part 1: Getting started with Python"
   ]
  },
  {
   "cell_type": "markdown",
   "metadata": {},
   "source": [
    "The world is full of problems. All sorts of problems, really. And sometimes it falls on us, as individuals or as small groups, to solve one of these problems.\n",
    "\n",
    "Fortunately, we humans are pretty smart: we're good at figuring out what to do, and we're often good at doing it too. But so are most other primates, and crows, and beavers, and dolphins... so, why are we _smarter_ than them?\n",
    "\n",
    "Well, we have evolved to have two big advantages over everyone else:\n",
    "\n",
    "* We're good at building tools, which we can then use to help us do things\n",
    "* We're good (like, _really_ good) at communicating: ideas, instructions, questions, explanations...\n",
    "\n",
    "So imagine how amazing it would be if we could _communicate with our tools_!\n",
    "\n",
    "Well... that is exactly what coding is, and it is exactly what we're about to do."
   ]
  },
  {
   "cell_type": "markdown",
   "metadata": {},
   "source": [
    "### 1.1 Making things"
   ]
  },
  {
   "cell_type": "markdown",
   "metadata": {},
   "source": [
    "> \"You can make anything by writing\" - C.S. Lewis"
   ]
  },
  {
   "cell_type": "markdown",
   "metadata": {},
   "source": [
    "Writing code is like writing a novel, or creating any other piece of art. You start with a blank canvas, and then gradually you start to add things to it.\n",
    "\n",
    "Let's have a look at some of the things we can start building with."
   ]
  },
  {
   "cell_type": "code",
   "execution_count": 2,
   "metadata": {},
   "outputs": [
    {
     "data": {
      "text/plain": [
       "3"
      ]
     },
     "execution_count": 2,
     "metadata": {},
     "output_type": "execute_result"
    }
   ],
   "source": [
    "3"
   ]
  },
  {
   "cell_type": "code",
   "execution_count": 3,
   "metadata": {},
   "outputs": [
    {
     "data": {
      "text/plain": [
       "7"
      ]
     },
     "execution_count": 3,
     "metadata": {},
     "output_type": "execute_result"
    }
   ],
   "source": [
    "3 + 4"
   ]
  },
  {
   "cell_type": "code",
   "execution_count": 4,
   "metadata": {},
   "outputs": [
    {
     "data": {
      "text/plain": [
       "'hi'"
      ]
     },
     "execution_count": 4,
     "metadata": {},
     "output_type": "execute_result"
    }
   ],
   "source": [
    "\"hi\""
   ]
  },
  {
   "cell_type": "markdown",
   "metadata": {},
   "source": [
    "Most \"things\" in Python are **objects**. An **object** here in Python is the same as an object in real life: it has certain properties, you can do things to it, you can use it to do things...\n",
    "\n",
    "Moreover, every object belongs to a certain **type** - like granite is a type of rock, or jazz is a type of music. For example, we've just seen an **integer** object:"
   ]
  },
  {
   "cell_type": "code",
   "execution_count": 5,
   "metadata": {},
   "outputs": [
    {
     "data": {
      "text/plain": [
       "int"
      ]
     },
     "execution_count": 5,
     "metadata": {},
     "output_type": "execute_result"
    }
   ],
   "source": [
    "type(3)"
   ]
  },
  {
   "cell_type": "markdown",
   "metadata": {},
   "source": [
    "And a **string** object:"
   ]
  },
  {
   "cell_type": "code",
   "execution_count": 6,
   "metadata": {},
   "outputs": [
    {
     "data": {
      "text/plain": [
       "str"
      ]
     },
     "execution_count": 6,
     "metadata": {},
     "output_type": "execute_result"
    }
   ],
   "source": [
    "type(\"hi\")"
   ]
  },
  {
   "cell_type": "markdown",
   "metadata": {},
   "source": [
    "We can change the type of some objects - for example, we can turn an integer into a string:"
   ]
  },
  {
   "cell_type": "code",
   "execution_count": 7,
   "metadata": {},
   "outputs": [
    {
     "data": {
      "text/plain": [
       "'15'"
      ]
     },
     "execution_count": 7,
     "metadata": {},
     "output_type": "execute_result"
    }
   ],
   "source": [
    "str(3 * 5)"
   ]
  },
  {
   "cell_type": "markdown",
   "metadata": {},
   "source": [
    "Notice the quote marks in the printed output?\n",
    "\n",
    "Or we can turn this particular string into an integer:"
   ]
  },
  {
   "cell_type": "code",
   "execution_count": 8,
   "metadata": {},
   "outputs": [
    {
     "data": {
      "text/plain": [
       "10"
      ]
     },
     "execution_count": 8,
     "metadata": {},
     "output_type": "execute_result"
    }
   ],
   "source": [
    "int(\"10\")"
   ]
  },
  {
   "cell_type": "markdown",
   "metadata": {},
   "source": [
    "But what about this one...?"
   ]
  },
  {
   "cell_type": "code",
   "execution_count": 9,
   "metadata": {},
   "outputs": [
    {
     "ename": "ValueError",
     "evalue": "invalid literal for int() with base 10: 'hi'",
     "output_type": "error",
     "traceback": [
      "\u001b[1;31m---------------------------------------------------------------------------\u001b[0m",
      "\u001b[1;31mValueError\u001b[0m                                Traceback (most recent call last)",
      "\u001b[1;32m<ipython-input-9-3f3b4afe6853>\u001b[0m in \u001b[0;36m<module>\u001b[1;34m\u001b[0m\n\u001b[1;32m----> 1\u001b[1;33m \u001b[0mint\u001b[0m\u001b[1;33m(\u001b[0m\u001b[1;34m\"hi\"\u001b[0m\u001b[1;33m)\u001b[0m\u001b[1;33m\u001b[0m\u001b[1;33m\u001b[0m\u001b[0m\n\u001b[0m",
      "\u001b[1;31mValueError\u001b[0m: invalid literal for int() with base 10: 'hi'"
     ]
    }
   ],
   "source": [
    "int(\"hi\")"
   ]
  },
  {
   "cell_type": "markdown",
   "metadata": {},
   "source": [
    "Python didn't let us do that, but think about why. Can you think of a sensible way to turn `\"hi\"` into an integer? (Oi, you, trying to add up letter scores or whatever it is you're doing over there. I said a _sensible_ way.)\n",
    "\n",
    "Similarly, it won't let us \"add together\" an integer and a string:"
   ]
  },
  {
   "cell_type": "code",
   "execution_count": 10,
   "metadata": {},
   "outputs": [
    {
     "ename": "TypeError",
     "evalue": "unsupported operand type(s) for +: 'int' and 'str'",
     "output_type": "error",
     "traceback": [
      "\u001b[1;31m---------------------------------------------------------------------------\u001b[0m",
      "\u001b[1;31mTypeError\u001b[0m                                 Traceback (most recent call last)",
      "\u001b[1;32m<ipython-input-10-e65ee25badf4>\u001b[0m in \u001b[0;36m<module>\u001b[1;34m\u001b[0m\n\u001b[1;32m----> 1\u001b[1;33m \u001b[1;36m10\u001b[0m \u001b[1;33m+\u001b[0m \u001b[1;34m\"hi\"\u001b[0m\u001b[1;33m\u001b[0m\u001b[1;33m\u001b[0m\u001b[0m\n\u001b[0m",
      "\u001b[1;31mTypeError\u001b[0m: unsupported operand type(s) for +: 'int' and 'str'"
     ]
    }
   ],
   "source": [
    "10 + \"hi\""
   ]
  },
  {
   "cell_type": "markdown",
   "metadata": {},
   "source": [
    "Instead of an answer, we get an **error message** telling us what went wrong. Look at the last line: Python is helpfully telling us that we tried to add a `str` and an `int`, and that `+` won't work with that combination!"
   ]
  },
  {
   "cell_type": "markdown",
   "metadata": {},
   "source": [
    "#### Exercise\n",
    "\n",
    "1. What happens if we \"add together\" two strings?\n",
    "2. Fix the `10 + \"hi\"` example: change the type of the integer so that we can add a string to it.\n",
    "2. We can't add together an integer and a string, but what about multiplication?\n",
    "3. Try out some more maths. Can you find another type of object?"
   ]
  },
  {
   "cell_type": "markdown",
   "metadata": {},
   "source": [
    "### 1.2 Keeping things"
   ]
  },
  {
   "cell_type": "markdown",
   "metadata": {},
   "source": [
    "> \"Save it for later\" - The Beat"
   ]
  },
  {
   "cell_type": "markdown",
   "metadata": {},
   "source": [
    "Sure, these things we're making are great, but they're just kind of... _there_. Wouldn't it be nice if we could give each of them a name?"
   ]
  },
  {
   "cell_type": "code",
   "execution_count": 11,
   "metadata": {},
   "outputs": [],
   "source": [
    "result = 3 + 4"
   ]
  },
  {
   "cell_type": "markdown",
   "metadata": {},
   "source": [
    "Nothing seemed to happen. But something _did_ happen..."
   ]
  },
  {
   "cell_type": "code",
   "execution_count": 12,
   "metadata": {},
   "outputs": [
    {
     "data": {
      "text/plain": [
       "7"
      ]
     },
     "execution_count": 12,
     "metadata": {},
     "output_type": "execute_result"
    }
   ],
   "source": [
    "result"
   ]
  },
  {
   "cell_type": "markdown",
   "metadata": {},
   "source": [
    "Our thing, our integer, our `7`, has been **assigned** to an object called `result`. So `result` is the name of this object (which is an integer with the value of `7`). And whenever we ask for `result`, we will get `7` in return. Makes sense?\n",
    "\n",
    "Let's make another integer object:"
   ]
  },
  {
   "cell_type": "code",
   "execution_count": 13,
   "metadata": {},
   "outputs": [],
   "source": [
    "to_add = 10"
   ]
  },
  {
   "cell_type": "markdown",
   "metadata": {},
   "source": [
    "So `result` is an integer, and `to_add` is an integer, So... we should be able to add them together, right?"
   ]
  },
  {
   "cell_type": "code",
   "execution_count": 14,
   "metadata": {},
   "outputs": [
    {
     "data": {
      "text/plain": [
       "17"
      ]
     },
     "execution_count": 14,
     "metadata": {},
     "output_type": "execute_result"
    }
   ],
   "source": [
    "total = result + to_add\n",
    "\n",
    "total"
   ]
  },
  {
   "cell_type": "markdown",
   "metadata": {},
   "source": [
    "Let's revise what we already know about strings too:"
   ]
  },
  {
   "cell_type": "code",
   "execution_count": 15,
   "metadata": {},
   "outputs": [
    {
     "data": {
      "text/plain": [
       "'Your answer is: 17'"
      ]
     },
     "execution_count": 15,
     "metadata": {},
     "output_type": "execute_result"
    }
   ],
   "source": [
    "sentence = \"Your answer is: \"\n",
    "message = sentence + str(total)\n",
    "\n",
    "message"
   ]
  },
  {
   "cell_type": "markdown",
   "metadata": {},
   "source": [
    "There's one more super-useful type of object which we should look at: **lists**.\n",
    "\n",
    "Lists are like containers which let you keep multiple things in the same place."
   ]
  },
  {
   "cell_type": "code",
   "execution_count": 16,
   "metadata": {},
   "outputs": [
    {
     "data": {
      "text/plain": [
       "['a', 'b', 'c', 'd', 'e', 'f', 'g']"
      ]
     },
     "execution_count": 16,
     "metadata": {},
     "output_type": "execute_result"
    }
   ],
   "source": [
    "letters = [\"a\", \"b\", \"c\", \"d\", \"e\", \"f\", \"g\"]\n",
    "\n",
    "letters"
   ]
  },
  {
   "cell_type": "markdown",
   "metadata": {},
   "source": [
    "We can go back and **slice** things out of lists based on their position. But...\n",
    "\n",
    "    |￣￣￣￣￣￣￣￣￣| \n",
    "    |    WARNING    | \n",
    "    |    ~~~~~~~    | \n",
    "    | Python starts |\n",
    "    |   counting    |\n",
    "    |    from 0     | \n",
    "    |＿＿＿＿＿＿＿＿＿| \n",
    "    (\\__/) || \n",
    "    (•ㅅ•) || \n",
    "    / 　 づ\n",
    "\n",
    "(There are reasons for this, which you can go and read about if you're interested.)"
   ]
  },
  {
   "cell_type": "code",
   "execution_count": 17,
   "metadata": {},
   "outputs": [
    {
     "data": {
      "text/plain": [
       "'a'"
      ]
     },
     "execution_count": 17,
     "metadata": {},
     "output_type": "execute_result"
    }
   ],
   "source": [
    "letters[0]"
   ]
  },
  {
   "cell_type": "code",
   "execution_count": 18,
   "metadata": {},
   "outputs": [
    {
     "data": {
      "text/plain": [
       "'c'"
      ]
     },
     "execution_count": 18,
     "metadata": {},
     "output_type": "execute_result"
    }
   ],
   "source": [
    "letters[2]"
   ]
  },
  {
   "cell_type": "markdown",
   "metadata": {},
   "source": [
    "Negative positions count backwards from the end of the list."
   ]
  },
  {
   "cell_type": "code",
   "execution_count": 19,
   "metadata": {},
   "outputs": [
    {
     "data": {
      "text/plain": [
       "'f'"
      ]
     },
     "execution_count": 19,
     "metadata": {},
     "output_type": "execute_result"
    }
   ],
   "source": [
    "letters[-2]"
   ]
  },
  {
   "cell_type": "markdown",
   "metadata": {},
   "source": [
    "You can also slice a whole section of a list using the format `from:upto`. But bear in mind that \"up to\" means \"up to and NOT including\"."
   ]
  },
  {
   "cell_type": "code",
   "execution_count": 20,
   "metadata": {
    "scrolled": true
   },
   "outputs": [
    {
     "data": {
      "text/plain": [
       "['a', 'b', 'c']"
      ]
     },
     "execution_count": 20,
     "metadata": {},
     "output_type": "execute_result"
    }
   ],
   "source": [
    "letters[0:3]"
   ]
  },
  {
   "cell_type": "markdown",
   "metadata": {},
   "source": [
    "If you don't tell Python where to stop, it will assume you want to go up to the end of the list:"
   ]
  },
  {
   "cell_type": "code",
   "execution_count": 21,
   "metadata": {},
   "outputs": [
    {
     "data": {
      "text/plain": [
       "['e', 'f', 'g']"
      ]
     },
     "execution_count": 21,
     "metadata": {},
     "output_type": "execute_result"
    }
   ],
   "source": [
    "letters[4:]"
   ]
  },
  {
   "cell_type": "markdown",
   "metadata": {},
   "source": [
    "Similarly, if we don't say where we want to start, Python assumes we want to start at the very beginning, a very good place to start. Remember what negative positions do?"
   ]
  },
  {
   "cell_type": "code",
   "execution_count": 22,
   "metadata": {},
   "outputs": [
    {
     "data": {
      "text/plain": [
       "['a', 'b', 'c', 'd', 'e']"
      ]
     },
     "execution_count": 22,
     "metadata": {},
     "output_type": "execute_result"
    }
   ],
   "source": [
    "letters[:-2]"
   ]
  },
  {
   "cell_type": "markdown",
   "metadata": {},
   "source": [
    "#### Exercises\n",
    "\n",
    "1. Make an object called `python_ability`: an integer which you think represents your Python skill level right now\n",
    "2. What happens if we assign over the top of an object that already exists? Try reassigning `python_ability` as `python_ability + 1`\n",
    "3. Now combine `python_ability` with a string containing a motivational message to yourself. You're doing great!\n",
    "4. Do all the things in a list need to be of the same type? Try things out... can you put a _list_ inside a list?\n",
    "5. What does `letters[0:6:2]` do? What about `letters[::-1]`?\n",
    "6. What happens if you slice a string?"
   ]
  },
  {
   "cell_type": "markdown",
   "metadata": {},
   "source": [
    "### 1.3 Comparing things"
   ]
  },
  {
   "cell_type": "markdown",
   "metadata": {},
   "source": [
    "> \"All animals are equal, but some animals are more equal than others\" - George Orwell"
   ]
  },
  {
   "cell_type": "markdown",
   "metadata": {},
   "source": [
    "Now we've got the hang of objects, let's look at some useful things we can do with them. **Comparison operators** let us make comparisons between two objects (astonishing, right?). A comparison will always give us back a **Boolean** (or **logical**) value. Sounds fancy, but it just means `True` or `False`."
   ]
  },
  {
   "cell_type": "code",
   "execution_count": 23,
   "metadata": {},
   "outputs": [
    {
     "data": {
      "text/plain": [
       "True"
      ]
     },
     "execution_count": 23,
     "metadata": {},
     "output_type": "execute_result"
    }
   ],
   "source": [
    "3 == 3"
   ]
  },
  {
   "cell_type": "code",
   "execution_count": 24,
   "metadata": {},
   "outputs": [
    {
     "data": {
      "text/plain": [
       "False"
      ]
     },
     "execution_count": 24,
     "metadata": {},
     "output_type": "execute_result"
    }
   ],
   "source": [
    "3 != 3"
   ]
  },
  {
   "cell_type": "markdown",
   "metadata": {},
   "source": [
    "Here are all the comparison operators:\n",
    "\n",
    "| Operator | Meaning                  |\n",
    "|----------|--------------------------|\n",
    "| `==`     | equals                   |\n",
    "| `!=`     | not equal                |\n",
    "| `<`      | less than                |\n",
    "| `>`      | greater than             |\n",
    "| `<=`     | less than or equal to    |\n",
    "| `>=`     | greater than or equal to |\n",
    "\n",
    "The only slightly tricky one to remember is `==` for checking equality. Why `==`, rather than just plain `=`? Maybe you've already realised..."
   ]
  },
  {
   "cell_type": "code",
   "execution_count": 25,
   "metadata": {},
   "outputs": [
    {
     "ename": "SyntaxError",
     "evalue": "can't assign to literal (<ipython-input-25-effb9ca1a7d0>, line 1)",
     "output_type": "error",
     "traceback": [
      "\u001b[1;36m  File \u001b[1;32m\"<ipython-input-25-effb9ca1a7d0>\"\u001b[1;36m, line \u001b[1;32m1\u001b[0m\n\u001b[1;33m    3 = 4\u001b[0m\n\u001b[1;37m         ^\u001b[0m\n\u001b[1;31mSyntaxError\u001b[0m\u001b[1;31m:\u001b[0m can't assign to literal\n"
     ]
    }
   ],
   "source": [
    "3 = 4"
   ]
  },
  {
   "cell_type": "markdown",
   "metadata": {},
   "source": [
    "Remember `=` already does something - assignment! We just tried to tell Python that `3` is now `4`, and Python told us we tried to do something stupid.\n",
    "\n",
    "We can compare other types of object too, as well as numbers. For example, Boolean values have numeric equivalents: `False` is a \"logical 0\", and `True` is a \"logical 1\":"
   ]
  },
  {
   "cell_type": "code",
   "execution_count": 26,
   "metadata": {},
   "outputs": [
    {
     "data": {
      "text/plain": [
       "True"
      ]
     },
     "execution_count": 26,
     "metadata": {},
     "output_type": "execute_result"
    }
   ],
   "source": [
    "False == 0"
   ]
  },
  {
   "cell_type": "code",
   "execution_count": 27,
   "metadata": {},
   "outputs": [
    {
     "data": {
      "text/plain": [
       "True"
      ]
     },
     "execution_count": 27,
     "metadata": {},
     "output_type": "execute_result"
    }
   ],
   "source": [
    "True > False"
   ]
  },
  {
   "cell_type": "markdown",
   "metadata": {},
   "source": [
    "We can also \"compare\" strings:"
   ]
  },
  {
   "cell_type": "code",
   "execution_count": 28,
   "metadata": {},
   "outputs": [
    {
     "data": {
      "text/plain": [
       "False"
      ]
     },
     "execution_count": 28,
     "metadata": {},
     "output_type": "execute_result"
    }
   ],
   "source": [
    "\"python\" == \"matlab\""
   ]
  },
  {
   "cell_type": "code",
   "execution_count": 29,
   "metadata": {
    "scrolled": true
   },
   "outputs": [
    {
     "data": {
      "text/plain": [
       "True"
      ]
     },
     "execution_count": 29,
     "metadata": {},
     "output_type": "execute_result"
    }
   ],
   "source": [
    "\"python\" > \"matlab\""
   ]
  },
  {
   "cell_type": "markdown",
   "metadata": {},
   "source": [
    "#### Exercises\n",
    "\n",
    "1. Play around with numerical comparisons until you're happy with them!\n",
    "2. What happens if you add two Booleans together?\n",
    "2. Are uppercase letters the same as lowercase letters?\n",
    "3. Why is `\"python\"` greater than `\"matlab\"`? Write a 6000 word essay explaining... just kidding. But can you actually figure out what's going on?"
   ]
  },
  {
   "cell_type": "markdown",
   "metadata": {},
   "source": [
    "### 1.4 Controlling things"
   ]
  },
  {
   "cell_type": "markdown",
   "metadata": {},
   "source": [
    "> \"If I could, then I would\" - The Calling"
   ]
  },
  {
   "cell_type": "markdown",
   "metadata": {},
   "source": [
    "**Question:** When you enter a room, do you turn on the light?\n",
    "\n",
    "> **A)** Yes, always, I hate the planet\n",
    "\n",
    "> **B)** No, never, I am a creature of the dark\n",
    "\n",
    "> **C)** I dunno, sometimes?\n",
    "\n",
    "If you chose A, STOP IT YOU TERRIBLE PERSON.\n",
    "\n",
    "If you chose B, fair enough, you do you.\n",
    "\n",
    "If you chose C (you _probably_ chose C, right?), perhaps you consider a couple of things before you decide whether to turn on the light or not. Is the room being used? Is the light already turned on? If not, how dark is it?\n",
    "\n",
    "In other words, your next move depends on something else... let's set the scene and create an object storing the current \"status\" of our light - i.e. whether the light is on or not. (Objects like this, where the value is going to change, are sometimes referred to as **variables**.)"
   ]
  },
  {
   "cell_type": "code",
   "execution_count": 30,
   "metadata": {},
   "outputs": [],
   "source": [
    "light_status = \"on\""
   ]
  },
  {
   "cell_type": "markdown",
   "metadata": {},
   "source": [
    "Let's pretend we are Person B, the one who likes the dark. If the light is on, we turn it off, no further questions."
   ]
  },
  {
   "cell_type": "code",
   "execution_count": 31,
   "metadata": {},
   "outputs": [
    {
     "data": {
      "text/plain": [
       "'off'"
      ]
     },
     "execution_count": 31,
     "metadata": {},
     "output_type": "execute_result"
    }
   ],
   "source": [
    "if light_status == \"on\":\n",
    "    light_status = \"off\"\n",
    "\n",
    "light_status"
   ]
  },
  {
   "cell_type": "markdown",
   "metadata": {},
   "source": [
    "What just happened? Let's risk getting yelled at by Person B and shed some light on the situation.\n",
    "\n",
    "First, Python saw the `if` keyword, which tells it to check the **condition** which comes immediately afterwards. Here, our condition was `light_status == \"on\"`. This `if CONDITION:` structure is called an **`if`-statement**.\n",
    "\n",
    "A condition must always be a Boolean, i.e. `True` or `False`. Our equality comparison gave us `True`, because remember that just a moment ago we set `light_status = \"on\"`!\n",
    "\n",
    "Then, because our condition was `True`, we ran the indented code underneath the `if`-statement. Here, that was just the single line `light_status = \"off\"`, but you can put as much code as you like within this **`if`-clause**, as long as every line is indented by the same amount. Technically this _could_ be any amount, but everyone (yes, _everyone_) uses 4 spaces, so stick to that.\n",
    "\n",
    "If our condition had been `False`, we would have skipped the indented lines completely, and carried on as usual from just after the indented section. Let's try that out..."
   ]
  },
  {
   "cell_type": "code",
   "execution_count": 32,
   "metadata": {},
   "outputs": [
    {
     "data": {
      "text/plain": [
       "'off'"
      ]
     },
     "execution_count": 32,
     "metadata": {},
     "output_type": "execute_result"
    }
   ],
   "source": [
    "if 1 == 2:\n",
    "    word = \"banana\"\n",
    "    light_status = 1000*word\n",
    "\n",
    "light_status"
   ]
  },
  {
   "cell_type": "markdown",
   "metadata": {},
   "source": [
    "Now, how about we pretend we're Terrible Person A, and if the light is off, without a second thought we turn it on?\n",
    "\n",
    "Sure, one way of doing this is by changing our condition from `light_status == \"on\"` to `light_status == \"off\"`:"
   ]
  },
  {
   "cell_type": "code",
   "execution_count": 33,
   "metadata": {
    "scrolled": true
   },
   "outputs": [
    {
     "data": {
      "text/plain": [
       "'on'"
      ]
     },
     "execution_count": 33,
     "metadata": {},
     "output_type": "execute_result"
    }
   ],
   "source": [
    "light_status = \"off\"\n",
    "\n",
    "if light_status == \"off\":\n",
    "    light_status = \"on\"\n",
    "\n",
    "light_status"
   ]
  },
  {
   "cell_type": "markdown",
   "metadata": {},
   "source": [
    "We could actually have re-used our old Person B condition though, by combining it with `not`. All `not` does is flip between `True` and `False`."
   ]
  },
  {
   "cell_type": "code",
   "execution_count": 34,
   "metadata": {},
   "outputs": [
    {
     "data": {
      "text/plain": [
       "True"
      ]
     },
     "execution_count": 34,
     "metadata": {},
     "output_type": "execute_result"
    }
   ],
   "source": [
    "not False"
   ]
  },
  {
   "cell_type": "markdown",
   "metadata": {},
   "source": [
    "So using `not`, we can create a person even worse than Person A, who _always_ finds a way to turn on the light."
   ]
  },
  {
   "cell_type": "code",
   "execution_count": 35,
   "metadata": {},
   "outputs": [
    {
     "data": {
      "text/plain": [
       "'on'"
      ]
     },
     "execution_count": 35,
     "metadata": {},
     "output_type": "execute_result"
    }
   ],
   "source": [
    "light_status = \"whatever\"\n",
    "\n",
    "if not light_status == \"on\":\n",
    "    light_status = \"on\"\n",
    "\n",
    "light_status"
   ]
  },
  {
   "cell_type": "markdown",
   "metadata": {},
   "source": [
    "We urgently need someone sensible to take control of the situation. Time to build Person C.\n",
    "\n",
    "Person C always checks two things. They check whether the light is on, and how bright the room is. If the light is not on already and it's too dark, Person C turns the light on. Otherwise, Person C turns the light off."
   ]
  },
  {
   "cell_type": "code",
   "execution_count": 36,
   "metadata": {
    "scrolled": true
   },
   "outputs": [
    {
     "data": {
      "text/plain": [
       "'on'"
      ]
     },
     "execution_count": 36,
     "metadata": {},
     "output_type": "execute_result"
    }
   ],
   "source": [
    "light_status = \"whatever\"\n",
    "brightness = 2\n",
    "\n",
    "if not light_status == \"on\" and brightness < 5:\n",
    "    light_status = \"on\"\n",
    "else:\n",
    "    light_status = \"off\"\n",
    "\n",
    "light_status"
   ]
  },
  {
   "cell_type": "markdown",
   "metadata": {},
   "source": [
    "Two things to note here. Firstly, our condition had multiple parts:\n",
    "\n",
    "* `not light_status == \"on\"`\n",
    "* `brightness < 5`\n",
    "\n",
    "In Python, there are three **logical operators** which we can use when we work with Booleans. We've seen `not` already, which \"flips\" a Boolean. The other two are `and`, which stays `True` if _everything_ is `True`, and `or`, which stays `True` if _something_ is `True`:\n",
    "\n",
    "| `and`     | **True**  | **False** |\n",
    "|-----------|-----------|-----------|\n",
    "| **True**  | `True`    | `False`   |\n",
    "| **False** | `False`   | `False`   |\n",
    "\n",
    "| `or`     | **True**  | **False** |\n",
    "|-----------|-----------|-----------|\n",
    "| **True**  | `True`    | `True`    |\n",
    "| **False** | `True`    | `False`   |\n",
    "\n",
    "In our case, we needed _both_ parts of our condition to be `True`, so we combined them using `and`.\n",
    "\n",
    "Secondly, we added an **`else`-clause** to our `if`-clause. This lets us provide Python with an alternative block of code, which it runs if it _doesn't_ run the `if`-block. See the difference when we run the same if-else combo for a brighter room:"
   ]
  },
  {
   "cell_type": "code",
   "execution_count": 37,
   "metadata": {
    "scrolled": true
   },
   "outputs": [
    {
     "data": {
      "text/plain": [
       "'off'"
      ]
     },
     "execution_count": 37,
     "metadata": {},
     "output_type": "execute_result"
    }
   ],
   "source": [
    "light_status = \"whatever\"\n",
    "brightness = 8\n",
    "\n",
    "if not light_status == \"on\" and brightness < 5:\n",
    "    light_status = \"on\"\n",
    "else:\n",
    "    light_status = \"off\"\n",
    "\n",
    "light_status"
   ]
  },
  {
   "cell_type": "markdown",
   "metadata": {},
   "source": [
    "So we can split our code into two cases quite easily. But why stop at two cases? What if you have MORE cases?\n",
    "\n",
    "You might try \"nesting\" `if`-statements...\n",
    "\n",
    "    if CONDITION:\n",
    "        do something\n",
    "    else:\n",
    "        if ANOTHER_CONDITION:\n",
    "            do a different thing\n",
    "        else:\n",
    "            do something else entirely\n",
    "\n",
    "This works, but a much nicer way of doing it is with `elif`. Yes, that is an `else` smashed together with an `if`. Yes, it is a real thing. Try playing around with the brightness level below."
   ]
  },
  {
   "cell_type": "code",
   "execution_count": 38,
   "metadata": {},
   "outputs": [
    {
     "data": {
      "text/plain": [
       "'light: off, curtains: closed'"
      ]
     },
     "execution_count": 38,
     "metadata": {},
     "output_type": "execute_result"
    }
   ],
   "source": [
    "brightness = 12\n",
    "\n",
    "if brightness < 5:\n",
    "    light_status = \"on\"\n",
    "    curtains_status = \"closed\"\n",
    "    \n",
    "elif brightness <= 8:\n",
    "    light_status = \"off\"\n",
    "    curtains_status = \"open\"\n",
    "    \n",
    "elif brightness < 9000:\n",
    "    light_status = \"off\"\n",
    "    curtains_status = \"closed\"\n",
    "    \n",
    "else:\n",
    "    light_status = \"It's OVER 9000!!!\"\n",
    "    curtains_status = \"Hassen ijou da?!?!\"\n",
    "\n",
    "\"light: \" + light_status + \", curtains: \" + curtains_status"
   ]
  },
  {
   "cell_type": "markdown",
   "metadata": {},
   "source": [
    "#### Exercises\n",
    "\n",
    "1. Choose 5 integers that you like between 0 and 9 (or 5 integers that you don't like, whatever) and make a list containing them. Save it in a variable called `secret_list`.\n",
    "2. Forget everything you ever knew about the contents of `secret_list`.\n",
    "3. Is `6` in `secret_list`? DON'T LOOK AT `secret_list` - use the `in` operator to check instead...\n",
    "4. Make a new variable called `score`, and choose a score you want to start on. Whatever you like.\n",
    "5. If `2` is in `secret_list`, add 2 to your score.\n",
    "6. If the fourth element of `secret_list` is less than 3, or greater than or equal to 7, add 100 to your score; otherwise, take 100 away.\n",
    "7. If the first element of `secret_list` is divisible by 3, multiply your score by 3. Else, if it's divisible by 4, multiply your score by 4. Else, divide your score by 2. (Hint: look up the **modulo operator**, `%`)\n",
    "7. If `secret_list` contains 4 or 5 BUT NOT BOTH, square your score (`score**2`).\n",
    "8. If you didn't use `if`-statements for each of steps 5-8, set `score` to 0 and start again from step 4. Else, you completed the game - good job! Impress your family/friends/colleagues by telling them your score.\n",
    "9. Convert your score to a string. Use `in` to check whether it contains a `\"1\"`. If so... you _won_ the game! Impress your family/friends/colleagues again by telling them you won. Else, hard luck, but feel free to try again if you really really want to."
   ]
  },
  {
   "cell_type": "markdown",
   "metadata": {},
   "source": [
    "### 1.5 Repeating things"
   ]
  },
  {
   "cell_type": "markdown",
   "metadata": {},
   "source": [
    "> \"Repeat stuff, repeat stuff, repeat stuff, come on, louder, I can't hear you!\" - Bo Burnham"
   ]
  },
  {
   "cell_type": "markdown",
   "metadata": {},
   "source": [
    "Here are some numbers for you."
   ]
  },
  {
   "cell_type": "code",
   "execution_count": 26,
   "metadata": {},
   "outputs": [],
   "source": [
    "to_sum = [6, 23, 3, 12, 5, 19, 14]"
   ]
  },
  {
   "cell_type": "markdown",
   "metadata": {},
   "source": [
    "Can you add them together?\n",
    "\n",
    "\"Wait a second, this isn't an exercise section!\", you cry. Fine. Let's do it together."
   ]
  },
  {
   "cell_type": "code",
   "execution_count": 40,
   "metadata": {},
   "outputs": [
    {
     "data": {
      "text/plain": [
       "82"
      ]
     },
     "execution_count": 40,
     "metadata": {},
     "output_type": "execute_result"
    }
   ],
   "source": [
    "total = to_sum[0] + to_sum[1] + to_sum[2] + to_sum[3] + to_sum[4] + to_sum[5] + to_sum[6]\n",
    "total"
   ]
  },
  {
   "cell_type": "markdown",
   "metadata": {},
   "source": [
    "Wooooow, that was a lot of typing. What if we had a list of 100 numbers to add together?\n",
    "\n",
    "Really, what we need is a way of doing the same thing, over and over again..."
   ]
  },
  {
   "cell_type": "code",
   "execution_count": 41,
   "metadata": {
    "scrolled": true
   },
   "outputs": [
    {
     "data": {
      "text/plain": [
       "82"
      ]
     },
     "execution_count": 41,
     "metadata": {},
     "output_type": "execute_result"
    }
   ],
   "source": [
    "total = 0\n",
    "\n",
    "for k in to_sum:\n",
    "    total = total + k\n",
    "\n",
    "total"
   ]
  },
  {
   "cell_type": "markdown",
   "metadata": {},
   "source": [
    "That was a **`for`-loop**, and everything happened rather fast... let's break it down:\n",
    "\n",
    "* We **initialised** a variable called `total` with a value of `0`\n",
    "* The `for` keyword, surprise surprise, told Python that we were about to write a `for`-loop\n",
    "* Then we **iterated** over our list - that is:\n",
    "    - We created a variable called `k`, and set it to be equal to the _first_ thing in `to_sum`, i.e. `6`\n",
    "    - We ran the code within the `for`-loop using that value of `k`, i.e. we added `6` to `total`\n",
    "    - Then we set `k` to be equal to the _second_ thing in `to_sum`, i.e. `23`\n",
    "    - We ran the code within the `for`-loop using that value of `k`, i.e. we added `23` to `total`\n",
    "    - Then we set `k` to be equal to the _third_ thing in `to_sum`...\n",
    "\n",
    "So we started with a `total` of 0, then added `to_sum[0]`, then added `to_sum[1]`, and so on and so on, until we ran out of things in `to_sum`. Nifty.\n",
    "\n",
    "Notice that in the process, we created a little helper variable called `k`. We don't really need it any more, but it's still lying around:"
   ]
  },
  {
   "cell_type": "code",
   "execution_count": 44,
   "metadata": {},
   "outputs": [
    {
     "data": {
      "text/plain": [
       "14"
      ]
     },
     "execution_count": 44,
     "metadata": {},
     "output_type": "execute_result"
    }
   ],
   "source": [
    "k"
   ]
  },
  {
   "cell_type": "markdown",
   "metadata": {},
   "source": [
    "Why `14`? Because this was the last thing in `to_sum`, so this was the final value which we assigned to `k` (and subsequently added to `total`)!"
   ]
  },
  {
   "cell_type": "code",
   "execution_count": 45,
   "metadata": {},
   "outputs": [
    {
     "data": {
      "text/plain": [
       "14"
      ]
     },
     "execution_count": 45,
     "metadata": {},
     "output_type": "execute_result"
    }
   ],
   "source": [
    "to_sum[-1]"
   ]
  },
  {
   "cell_type": "markdown",
   "metadata": {},
   "source": [
    "That helper variable didn't have to be called `k`. It's just like any other variable. We could have called it whatever we like! And we used it _in_ our loop, but we didn't have to..."
   ]
  },
  {
   "cell_type": "code",
   "execution_count": 46,
   "metadata": {},
   "outputs": [
    {
     "data": {
      "text/plain": [
       "7"
      ]
     },
     "execution_count": 46,
     "metadata": {},
     "output_type": "execute_result"
    }
   ],
   "source": [
    "n_elements = 0\n",
    "\n",
    "for item in to_sum:\n",
    "    n_elements = n_elements + 1\n",
    "    \n",
    "n_elements"
   ]
  },
  {
   "cell_type": "markdown",
   "metadata": {},
   "source": [
    "If you know exactly how many times you want to do something, a `for`-loop is what you need. Say you're standing on the side of a hill. If you know that you want to take 1000 steps downhill, point yourself down the hill, and take 1000 steps. Simple.\n",
    "\n",
    "Sometimes though, we know where we want to get to, but not necessarily how long it will take to get there. If you know that you want to get to the _bottom_ of the hill, then you point yourself downhill, and while you're still going downhill, you keep walking..."
   ]
  },
  {
   "cell_type": "code",
   "execution_count": 8,
   "metadata": {},
   "outputs": [],
   "source": [
    "total = 1\n",
    "\n",
    "while total < 1000:\n",
    "    total = 2 * total"
   ]
  },
  {
   "cell_type": "markdown",
   "metadata": {},
   "source": [
    "You might have been able to guess that this is called a **`while`-loop**: it's pretty similar to a `for`-loop, except while the condition is `True`, it keeps going. Which means you have to be slightly careful - because if your condition never switches to `False`, the loop will never stop, and you'll be stuck repeating the same thing forever and ever, until you're stopped by global warming/nuclear armageddon/Python running out of steam.\n",
    "\n",
    "Any guesses for what `total` is equal to now? Go on, try to figure it out.\n",
    "\n",
    "_[... patiently waits...]_\n",
    "\n",
    "Aaaaand the correct answer is:"
   ]
  },
  {
   "cell_type": "code",
   "execution_count": 6,
   "metadata": {},
   "outputs": [
    {
     "data": {
      "text/plain": [
       "1024"
      ]
     },
     "execution_count": 6,
     "metadata": {},
     "output_type": "execute_result"
    }
   ],
   "source": [
    "total"
   ]
  },
  {
   "cell_type": "markdown",
   "metadata": {},
   "source": [
    "Great job if you got that. If you didn't, you're probably convincing yourself that 1024 is definitely not less than 1000 and so WTF??! Has Python GONE WRONG?!?!\n",
    "\n",
    "Spoiler alert: nope, Python's grand. We keep doubling `total`, so we start off with 1, 2, 4, 8, 16, 31, 64, 128, 256, 512. That last one is definitely still less than 1000, right? So our condition is `True`, so we run `total = 2*total`, so `total` gets set to 1024. And 1024 is NOT less than 1000, so our condition is `False`, so we quit the loop.\n",
    "\n",
    "There's one other special way to quit either a `for`-loop or a `while`-loop early, before reaching the end. It's called **breaking**. Imagine you're walking down that hill again, intending to get to the bottom, but you find a nice bench and decide to stop walking to enjoy the view."
   ]
  },
  {
   "cell_type": "code",
   "execution_count": 52,
   "metadata": {},
   "outputs": [
    {
     "data": {
      "text/plain": [
       "255"
      ]
     },
     "execution_count": 52,
     "metadata": {},
     "output_type": "execute_result"
    }
   ],
   "source": [
    "total = 1\n",
    "\n",
    "while total < 1000:\n",
    "    \n",
    "    if (total % 17) == 0:\n",
    "        break\n",
    "        \n",
    "    total = 2*total + 1\n",
    "\n",
    "total"
   ]
  },
  {
   "cell_type": "markdown",
   "metadata": {},
   "source": [
    "That loop was similar to the previous one, except if at some point we had a `total` which was divisible by 17 with remainder 0, we'd quit the loop at that point. That happened when we reached 255 (= 15\\*17 + 0), so we stopped there."
   ]
  },
  {
   "cell_type": "markdown",
   "metadata": {},
   "source": [
    "#### Exercises\n",
    "\n",
    "1. Write a `for`-loop that multiplies the elements of `to_sum`.\n",
    "2. Adapt your loop so that it stops as soon as the total is more than 40.\n",
    "3. Lists aren't the only things we can iterate over... what happens if you iterate over a string? Write a `for`-loop that calculates the length of a string.\n",
    "4. Can you write a loop that keeps only the first word in a string? (Remember that you can add strings together...)"
   ]
  },
  {
   "cell_type": "markdown",
   "metadata": {},
   "source": [
    "### 1.6 Things that make things"
   ]
  },
  {
   "cell_type": "markdown",
   "metadata": {},
   "source": [
    "Imagine we're not sitting here in front of a computer, but instead we're in the kitchen. What we've done so far is basically just pull a load of stuff out of the cupboards and kinda spread it around, and we've mixed some stuff together, tasted some bits and pieces... which is great! We've learned loads, right?\n",
    "\n",
    "But now we've learned about some of the basic ingredients, maybe it's time to stop throwing them around and instead do something useful with them. Maybe let's try following a recipe?\n",
    "\n",
    "We've only just gotten started though, so let's not try anything too fancy. How about...\n",
    "\n",
    "    Toast recipe\n",
    "    ~~~~~~~~~~~~\n",
    "    1. Put bread in toaster\n",
    "    2. Let toaster do its thing\n",
    "    3. Retrieve toast\n",
    "\n",
    "Think about the role of the toaster here: it accepts the bread, does something to it, then gives it back to you.\n",
    "\n",
    "Snap back to reality. That's exactly what a **function** does: it takes some input, does some stuff, and gives back some output. We've actually seen a couple of functions already..."
   ]
  },
  {
   "cell_type": "code",
   "execution_count": null,
   "metadata": {},
   "outputs": [],
   "source": [
    "type(528491)"
   ]
  },
  {
   "cell_type": "markdown",
   "metadata": {},
   "source": [
    "We provide the `type()` function with an object; it tells us the type. Or..."
   ]
  },
  {
   "cell_type": "code",
   "execution_count": null,
   "metadata": {
    "scrolled": false
   },
   "outputs": [],
   "source": [
    "str(1.21)"
   ]
  },
  {
   "cell_type": "markdown",
   "metadata": {},
   "source": [
    "We give the `str()` function a numeric object; it turns it into a string and gives it back. Simple, right?\n",
    "\n",
    "Let's look at a couple more functions..."
   ]
  },
  {
   "cell_type": "code",
   "execution_count": 35,
   "metadata": {
    "scrolled": true
   },
   "outputs": [
    {
     "data": {
      "text/plain": [
       "8"
      ]
     },
     "execution_count": 35,
     "metadata": {},
     "output_type": "execute_result"
    }
   ],
   "source": [
    "len(\"A string\")"
   ]
  },
  {
   "cell_type": "markdown",
   "metadata": {},
   "source": [
    "What's `len()` doing?\n",
    "\n",
    "Maybe you've figured it out already, but let's check the **documentation** to make sure:"
   ]
  },
  {
   "cell_type": "code",
   "execution_count": 36,
   "metadata": {},
   "outputs": [],
   "source": [
    "?len"
   ]
  },
  {
   "cell_type": "markdown",
   "metadata": {},
   "source": [
    "So `len()` gives us \"the number of items in a container\". Here, our \"container\" was actually a string, containing 8 characters. But we can use `len()` on different types of object - what about a list? Remember `letters` from earlier?"
   ]
  },
  {
   "cell_type": "code",
   "execution_count": 37,
   "metadata": {},
   "outputs": [
    {
     "data": {
      "text/plain": [
       "7"
      ]
     },
     "execution_count": 37,
     "metadata": {},
     "output_type": "execute_result"
    }
   ],
   "source": [
    "len(letters)"
   ]
  },
  {
   "cell_type": "markdown",
   "metadata": {},
   "source": [
    "There's another function which we've actually been using a lot already, but so far it's been hiding very well. What do you think keeps making all our outputs magically appear under the code cells in this notebook?"
   ]
  },
  {
   "cell_type": "code",
   "execution_count": 38,
   "metadata": {},
   "outputs": [
    {
     "name": "stdout",
     "output_type": "stream",
     "text": [
      "Hi, it was me!\n"
     ]
    }
   ],
   "source": [
    "print(\"Hi, it was me!\")"
   ]
  },
  {
   "cell_type": "markdown",
   "metadata": {},
   "source": [
    "Let's read a bit more about `print()`."
   ]
  },
  {
   "cell_type": "code",
   "execution_count": 39,
   "metadata": {},
   "outputs": [],
   "source": [
    "?print"
   ]
  },
  {
   "cell_type": "markdown",
   "metadata": {},
   "source": [
    "The first line of the documentation shows us a template of how to use `print()`. Notice the commas?\n",
    "\n",
    "So far, we've only been putting one **argument** into these functions - one number, or one string, or one list. But functions don't necessarily have to have only 1 argument!"
   ]
  },
  {
   "cell_type": "code",
   "execution_count": 40,
   "metadata": {
    "scrolled": false
   },
   "outputs": [
    {
     "name": "stdout",
     "output_type": "stream",
     "text": [
      "Here are 3 different arguments!\n"
     ]
    }
   ],
   "source": [
    "print(\"Here are\", 3, \"different arguments!\")"
   ]
  },
  {
   "cell_type": "markdown",
   "metadata": {},
   "source": [
    "Those three arguments (`\"Here are\"`, `3` and `\"different arguments!\"`) were all **unnamed**: we just threw them in, and `print()`... well, it printed them! But see how it joined the three arguments together with a space in between, and then printed them as a single string.\n",
    "\n",
    "But what if we didn't want those arguments to be separated by a space? Well, we can tell `print()` to use a different separator..."
   ]
  },
  {
   "cell_type": "code",
   "execution_count": 41,
   "metadata": {},
   "outputs": [
    {
     "name": "stdout",
     "output_type": "stream",
     "text": [
      "Here are@3@different arguments!\n"
     ]
    }
   ],
   "source": [
    "print(\"Here are\", 3, \"different arguments!\", sep=\"@\")"
   ]
  },
  {
   "cell_type": "markdown",
   "metadata": {},
   "source": [
    "In that call to `print()`, we used a **named argument**: we set `sep` to be a particular string (`\"@\"`).\n",
    "\n",
    "Looking again at the documentation for `print()`, notice that `sep` has a **default value** of `sep=' '`. That means unless we specify `sep` as something different, then `print()` will use a string containing a single space (`' '`) as the separator between words - this is exactly what was happening before!\n",
    "\n",
    "Wait, so... how come sometimes we use named arguments, and sometimes we don't?\n",
    "\n",
    "Like most programming languages, Python uses two things to decide which arguments we've given a function:\n",
    "1. Name - if you use the argument name, Python will absolutely definitely know which argument you've given it!\n",
    "2. Position - if you don't use a name, Python has to guess\n",
    "\n"
   ]
  },
  {
   "cell_type": "code",
   "execution_count": 27,
   "metadata": {},
   "outputs": [],
   "source": [
    "?range"
   ]
  },
  {
   "cell_type": "markdown",
   "metadata": {},
   "source": [
    "*Exercise*: print the following\n",
    "\n",
    "    a\n",
    "    a-b\n",
    "    a-b-c\n",
    "    a-b-c-d\n",
    "    a-b-c-d-e\n",
    "    a-b-c-d-e-f"
   ]
  },
  {
   "cell_type": "code",
   "execution_count": null,
   "metadata": {},
   "outputs": [],
   "source": [
    "for k in range(len(letters)):\n",
    "    joined_letters = \"-\".join(letters[:(k+1)])\n",
    "    print(joined_letters)"
   ]
  },
  {
   "cell_type": "code",
   "execution_count": null,
   "metadata": {},
   "outputs": [],
   "source": [
    "import numpy as np"
   ]
  },
  {
   "cell_type": "markdown",
   "metadata": {},
   "source": [
    "#### Exercises\n",
    "\n",
    "1. Make a list containing 5 things, and check the length with `len()`\n",
    "2. Use `print()` to print a string containing the days of the week, separated by a dollar sign\n",
    "3. Print that string again, but use the `end` argument to append another string of your choice"
   ]
  },
  {
   "cell_type": "markdown",
   "metadata": {},
   "source": [
    "### 1.7 Making things that make things"
   ]
  },
  {
   "cell_type": "markdown",
   "metadata": {},
   "source": [
    "OK, so we can use functions which already exist in Python. "
   ]
  },
  {
   "cell_type": "code",
   "execution_count": 43,
   "metadata": {},
   "outputs": [],
   "source": [
    "def say(phrase, who=\"Me\"):\n",
    "    to_print = who + \": \" + phrase\n",
    "    print(to_print)"
   ]
  },
  {
   "cell_type": "code",
   "execution_count": 44,
   "metadata": {
    "scrolled": true
   },
   "outputs": [
    {
     "name": "stdout",
     "output_type": "stream",
     "text": [
      "Me: Hello!\n"
     ]
    }
   ],
   "source": [
    "say(\"Hello!\")"
   ]
  },
  {
   "cell_type": "code",
   "execution_count": 45,
   "metadata": {},
   "outputs": [
    {
     "name": "stdout",
     "output_type": "stream",
     "text": [
      "Obi-Wan: Hello there!\n"
     ]
    }
   ],
   "source": [
    "say(\"Hello there!\", who=\"Obi-Wan\")"
   ]
  },
  {
   "cell_type": "code",
   "execution_count": 46,
   "metadata": {},
   "outputs": [],
   "source": [
    "def say_multi(phrases, who=\"Me\"):\n",
    "    lines = [who + \": \" + phrase for phrase in phrases]\n",
    "    to_print = \"\\n\".join(lines)\n",
    "    print(to_print)"
   ]
  },
  {
   "cell_type": "code",
   "execution_count": 47,
   "metadata": {},
   "outputs": [
    {
     "name": "stdout",
     "output_type": "stream",
     "text": [
      "Lionel: Hello!\n",
      "Lionel: Is it me you're looking for?\n"
     ]
    }
   ],
   "source": [
    "say_multi([\"Hello!\", \"Is it me you're looking for?\"], who=\"Lionel\")"
   ]
  },
  {
   "cell_type": "code",
   "execution_count": null,
   "metadata": {},
   "outputs": [],
   "source": []
  },
  {
   "cell_type": "code",
   "execution_count": 48,
   "metadata": {},
   "outputs": [],
   "source": [
    "def grade(score):\n",
    "    if (score >= 40):\n",
    "        print(\"Pass\")\n",
    "    else:\n",
    "        print(\"Fail\")"
   ]
  },
  {
   "cell_type": "code",
   "execution_count": 49,
   "metadata": {},
   "outputs": [
    {
     "name": "stdout",
     "output_type": "stream",
     "text": [
      "Pass\n"
     ]
    }
   ],
   "source": [
    "grade(80)"
   ]
  },
  {
   "cell_type": "code",
   "execution_count": 50,
   "metadata": {},
   "outputs": [
    {
     "name": "stdout",
     "output_type": "stream",
     "text": [
      "Fail\n"
     ]
    }
   ],
   "source": [
    "grade(39.999)"
   ]
  },
  {
   "cell_type": "code",
   "execution_count": null,
   "metadata": {},
   "outputs": [],
   "source": []
  },
  {
   "cell_type": "code",
   "execution_count": null,
   "metadata": {},
   "outputs": [],
   "source": []
  },
  {
   "cell_type": "markdown",
   "metadata": {},
   "source": [
    "> \"If you want to be a writer, you must do two things above all others: read a lot and write a lot. There's no way around these two things that I'm aware of, no shortcut.\" - Stephen King"
   ]
  },
  {
   "cell_type": "code",
   "execution_count": null,
   "metadata": {},
   "outputs": [],
   "source": []
  },
  {
   "cell_type": "markdown",
   "metadata": {},
   "source": [
    "## Exercise solutions"
   ]
  },
  {
   "cell_type": "code",
   "execution_count": 51,
   "metadata": {},
   "outputs": [
    {
     "data": {
      "text/plain": [
       "float"
      ]
     },
     "execution_count": 51,
     "metadata": {},
     "output_type": "execute_result"
    }
   ],
   "source": [
    "# 1.1\n",
    "\"hi\" + \"there\"\n",
    "3 * \"hi\"\n",
    "type(3/2)"
   ]
  },
  {
   "cell_type": "code",
   "execution_count": 52,
   "metadata": {},
   "outputs": [
    {
     "data": {
      "text/plain": [
       "['g', 'f', 'e', 'd', 'c', 'b', 'a']"
      ]
     },
     "execution_count": 52,
     "metadata": {},
     "output_type": "execute_result"
    }
   ],
   "source": [
    "# 1.2\n",
    "python_ability = 1\n",
    "\n",
    "python_ability = python_ability + 1\n",
    "python_ability\n",
    "\n",
    "\"Right now my Python ability is \" + str(python_ability) + \" and I am freaking awesome!\"\n",
    "\n",
    "[\"hello\", 42, [101010, \"listception\"]]\n",
    "\n",
    "letters[0:6:2]\n",
    "letters[::-1]"
   ]
  },
  {
   "cell_type": "code",
   "execution_count": 53,
   "metadata": {},
   "outputs": [
    {
     "data": {
      "text/plain": [
       "True"
      ]
     },
     "execution_count": 53,
     "metadata": {},
     "output_type": "execute_result"
    }
   ],
   "source": [
    "# 1.3\n",
    "True + True + False\n",
    "5 + True\n",
    "\n",
    "\"aa\" == \"aaAAA\"\n",
    "\n",
    "\"p\" > \"m\"\n",
    "\"pb\" > \"pa\""
   ]
  },
  {
   "cell_type": "code",
   "execution_count": 24,
   "metadata": {},
   "outputs": [
    {
     "data": {
      "text/plain": [
       "(1482.25, True)"
      ]
     },
     "execution_count": 24,
     "metadata": {},
     "output_type": "execute_result"
    }
   ],
   "source": [
    "# 1.4\n",
    "secret_list = [1, 2, 5, 6, 8]\n",
    "\n",
    "6 in secret_list\n",
    "\n",
    "score = 21\n",
    "\n",
    "if 2 in secret_list:\n",
    "    score = score + 2\n",
    "\n",
    "if secret_list[3] < 3 or secret_list[3] >= 7:\n",
    "    score = score + 100\n",
    "else:\n",
    "    score = score - 100\n",
    "\n",
    "if secret_list[0] % 3 == 0:\n",
    "    score = score * 3\n",
    "elif secret_list[0] % 4 == 0:\n",
    "    score = score * 4\n",
    "else:\n",
    "    score = score / 2\n",
    "\n",
    "if (4 in secret_list or 5 in secret_list) and not (4 in secret_list and 5 in secret_list):\n",
    "    score = score**2\n",
    "\n",
    "score, \"1\" in str(score)"
   ]
  },
  {
   "cell_type": "code",
   "execution_count": 33,
   "metadata": {},
   "outputs": [
    {
     "data": {
      "text/plain": [
       "'This'"
      ]
     },
     "execution_count": 33,
     "metadata": {},
     "output_type": "execute_result"
    }
   ],
   "source": [
    "# 1.5\n",
    "product = 1\n",
    "\n",
    "for k in to_sum:\n",
    "    product = product * k\n",
    "\n",
    "    \n",
    "product = 1\n",
    "\n",
    "for k in to_sum:\n",
    "    if product > 5000:\n",
    "        break\n",
    "    product = product * k\n",
    "\n",
    "\n",
    "message = \"This is a nice message\"\n",
    "nchar = 0\n",
    "\n",
    "for letter in message:\n",
    "    nchar = nchar + 1\n",
    "\n",
    "\n",
    "first_word = \"\"\n",
    "\n",
    "for letter in message:\n",
    "    \n",
    "    if letter == \" \":\n",
    "        break\n",
    "        \n",
    "    first_word = first_word + letter\n",
    "\n",
    "first_word"
   ]
  },
  {
   "cell_type": "code",
   "execution_count": null,
   "metadata": {},
   "outputs": [],
   "source": []
  }
 ],
 "metadata": {
  "kernelspec": {
   "display_name": "Python 3",
   "language": "python",
   "name": "python3"
  },
  "language_info": {
   "codemirror_mode": {
    "name": "ipython",
    "version": 3
   },
   "file_extension": ".py",
   "mimetype": "text/x-python",
   "name": "python",
   "nbconvert_exporter": "python",
   "pygments_lexer": "ipython3",
   "version": "3.6.7"
  }
 },
 "nbformat": 4,
 "nbformat_minor": 2
}
